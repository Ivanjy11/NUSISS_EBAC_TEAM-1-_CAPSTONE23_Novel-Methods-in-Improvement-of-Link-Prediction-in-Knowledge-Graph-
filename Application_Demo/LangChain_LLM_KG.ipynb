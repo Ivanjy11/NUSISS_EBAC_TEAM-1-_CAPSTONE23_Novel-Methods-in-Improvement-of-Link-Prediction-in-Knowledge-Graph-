{
 "cells": [
  {
   "cell_type": "code",
   "execution_count": 1,
   "id": "31e53d79",
   "metadata": {},
   "outputs": [],
   "source": [
    "# augmenting ChatGPT using a knowledge graph and Lang Chain\n",
    "# input: Question and Finalized set of triples \n",
    "# output: Answer from ChatGPT (Linked to ChatGPT-3.5 here)\n",
    "\n",
    "# NUS-ISS MTECH EBAC Capstone Project (2023)\n",
    "# Team Members: Kwan Yick Tan, Hiew Ming Yu, Lim Kim Hui, Chua Khai Shing, Ivan Ong Jun Yi"
   ]
  },
  {
   "cell_type": "code",
   "execution_count": 2,
   "id": "7dee22e3",
   "metadata": {},
   "outputs": [],
   "source": [
    "!pip install -q langchain\n",
    "!pip install -q openai"
   ]
  },
  {
   "cell_type": "code",
   "execution_count": 3,
   "id": "f8ba91db",
   "metadata": {},
   "outputs": [],
   "source": [
    "import os\n",
    "import openai\n",
    "import gradio as gr\n",
    "import networkx as nx\n",
    "import matplotlib.pyplot as plt\n",
    "from langchain.llms import OpenAI\n",
    "from langchain.chat_models import ChatOpenAI\n",
    "from langchain.indexes import GraphIndexCreator\n",
    "from langchain.chains import GraphQAChain\n",
    "from langchain.prompts import PromptTemplate\n",
    "from langchain.graphs.networkx_graph import KnowledgeTriple"
   ]
  },
  {
   "cell_type": "code",
   "execution_count": 4,
   "id": "59041d25",
   "metadata": {},
   "outputs": [],
   "source": [
    "os.environ['OPENAI_API_KEY'] = '<OPENAI API KEY>' #To fill in OpenAI API KEY from user account"
   ]
  },
  {
   "cell_type": "code",
   "execution_count": 5,
   "id": "169c4e8f",
   "metadata": {},
   "outputs": [],
   "source": [
    "openai.api_key = os.environ['OPENAI_API_KEY']"
   ]
  },
  {
   "cell_type": "code",
   "execution_count": 6,
   "id": "ad080a48",
   "metadata": {},
   "outputs": [],
   "source": [
    "# Initialize the knowledge graph and user question\n",
    "kg = []  # Initial knowledge graph as a list of triples\n",
    "graph = None  # Placeholder for the graph object\n",
    "user_question = \"\""
   ]
  },
  {
   "cell_type": "code",
   "execution_count": 7,
   "id": "8b05458b",
   "metadata": {},
   "outputs": [],
   "source": [
    "# Create a function to update the knowledge graph and get answers\n",
    "def update_graph_and_get_answer(user_question, triples):\n",
    "    global kg, graph  # Use global variables\n",
    "\n",
    "    # Parse the triples entered as a list of tuples\n",
    "    new_triples = [tuple(map(str.strip, t.strip(\"()\").split(\",\"))) for t in triples.split(\"\\n\") if t.strip()]\n",
    "\n",
    "    # Update the knowledge graph with the new triples\n",
    "    kg.extend(new_triples)\n",
    "\n",
    "    # Create or update the graph object\n",
    "    if graph is None:\n",
    "        graph = GraphIndexCreator(llm=OpenAI(temperature=0)).from_text('')\n",
    "        for (node1, relation, node2) in kg:\n",
    "            graph.add_triple(KnowledgeTriple(node1, relation, node2))\n",
    "    else:\n",
    "        for (node1, relation, node2) in new_triples:\n",
    "            graph.add_triple(KnowledgeTriple(node1, relation, node2))\n",
    "\n",
    "    # Generate a response using the current graph\n",
    "    if user_question:\n",
    "        chain = GraphQAChain.from_llm(OpenAI(temperature=0), graph=graph, verbose=True)\n",
    "        answer = chain.run(user_question)\n",
    "        return answer\n",
    "    else:\n",
    "        return \"Please enter a question.\""
   ]
  },
  {
   "cell_type": "code",
   "execution_count": 9,
   "id": "f2404f28",
   "metadata": {},
   "outputs": [
    {
     "name": "stderr",
     "output_type": "stream",
     "text": [
      "C:\\Users\\kwanyick\\AppData\\Local\\Temp\\ipykernel_44796\\3557790534.py:5: GradioDeprecationWarning: Usage of gradio.inputs is deprecated, and will not be supported in the future, please import your component from gradio.components\n",
      "  gr.inputs.Textbox(label=\"Enter your question:\", type=\"text\"),\n",
      "C:\\Users\\kwanyick\\AppData\\Local\\Temp\\ipykernel_44796\\3557790534.py:5: GradioDeprecationWarning: `optional` parameter is deprecated, and it has no effect\n",
      "  gr.inputs.Textbox(label=\"Enter your question:\", type=\"text\"),\n",
      "C:\\Users\\kwanyick\\AppData\\Local\\Temp\\ipykernel_44796\\3557790534.py:5: GradioDeprecationWarning: `numeric` parameter is deprecated, and it has no effect\n",
      "  gr.inputs.Textbox(label=\"Enter your question:\", type=\"text\"),\n",
      "C:\\Users\\kwanyick\\AppData\\Local\\Temp\\ipykernel_44796\\3557790534.py:6: GradioDeprecationWarning: Usage of gradio.inputs is deprecated, and will not be supported in the future, please import your component from gradio.components\n",
      "  gr.inputs.Textbox(label=\"Enter additional triples (one per line):\", type=\"text\")\n",
      "C:\\Users\\kwanyick\\AppData\\Local\\Temp\\ipykernel_44796\\3557790534.py:6: GradioDeprecationWarning: `optional` parameter is deprecated, and it has no effect\n",
      "  gr.inputs.Textbox(label=\"Enter additional triples (one per line):\", type=\"text\")\n",
      "C:\\Users\\kwanyick\\AppData\\Local\\Temp\\ipykernel_44796\\3557790534.py:6: GradioDeprecationWarning: `numeric` parameter is deprecated, and it has no effect\n",
      "  gr.inputs.Textbox(label=\"Enter additional triples (one per line):\", type=\"text\")\n",
      "C:\\Users\\kwanyick\\anaconda3\\lib\\site-packages\\gradio\\blocks.py:277: UserWarning: api_name predict already exists, using predict_1\n",
      "  warnings.warn(f\"api_name {api_name} already exists, using {api_name_}\")\n"
     ]
    }
   ],
   "source": [
    "# Create the Gradio interface with text inputs\n",
    "iface = gr.Interface(\n",
    "    fn=update_graph_and_get_answer,\n",
    "    inputs=[\n",
    "        gr.inputs.Textbox(label=\"Enter your question:\", type=\"text\"),\n",
    "        gr.inputs.Textbox(label=\"Enter additional triples (one per line):\", type=\"text\")\n",
    "    ],\n",
    "    outputs=\"text\",\n",
    "    title=\"NUS-ISS Capstone Team 1: GPT-3.5 Question Answering with Knowledge Graph\",\n",
    "    description=\"Enter your question and add additional triples (one per line) to update the knowledge graph.\",\n",
    "    live=True,\n",
    ")"
   ]
  },
  {
   "cell_type": "code",
   "execution_count": 10,
   "id": "148f6d16",
   "metadata": {},
   "outputs": [],
   "source": [
    "# REFER TO END OF CODE FOR QUESTION INPUT & ADDITIONAL TRIPLES INPUT"
   ]
  },
  {
   "cell_type": "code",
   "execution_count": 11,
   "id": "90f63682",
   "metadata": {},
   "outputs": [
    {
     "name": "stdout",
     "output_type": "stream",
     "text": [
      "Running on local URL:  http://127.0.0.1:7867\n",
      "\n",
      "Thanks for being a Gradio user! If you have questions or feedback, please join our Discord server and chat with us: https://discord.gg/feTf9x3ZSB\n",
      "\n",
      "To create a public link, set `share=True` in `launch()`.\n"
     ]
    },
    {
     "data": {
      "text/html": [
       "<div><iframe src=\"http://127.0.0.1:7867/\" width=\"100%\" height=\"500\" allow=\"autoplay; camera; microphone; clipboard-read; clipboard-write;\" frameborder=\"0\" allowfullscreen></iframe></div>"
      ],
      "text/plain": [
       "<IPython.core.display.HTML object>"
      ]
     },
     "metadata": {},
     "output_type": "display_data"
    },
    {
     "data": {
      "text/plain": []
     },
     "metadata": {},
     "output_type": "display_data"
    },
    {
     "name": "stdout",
     "output_type": "stream",
     "text": [
      "\n",
      "\n",
      "\u001b[1m> Entering new GraphQAChain chain...\u001b[0m\n",
      "Entities Extracted:\n",
      "\u001b[32;1m\u001b[1;3m SMRT Corporation Ltd, Verztec Consulting Pte Ltd, Sunway Ship Supplies Pte Ltd, Grand Park City Hall, NS, COS\u001b[0m\n",
      "Full Context:\n",
      "\u001b[32;1m\u001b[1;3m\u001b[0m\n",
      "\n",
      "\u001b[1m> Finished chain.\u001b[0m\n",
      "\n",
      "\n",
      "\u001b[1m> Entering new GraphQAChain chain...\u001b[0m\n",
      "Entities Extracted:\n",
      "\u001b[32;1m\u001b[1;3m SMRT Corporation Ltd, Verztec Consulting Pte Ltd, Sunway Ship Supplies Pte Ltd, Grand Park City Hall, NS, COS\u001b[0m\n",
      "Full Context:\n",
      "\u001b[32;1m\u001b[1;3mSMRT Corporation Ltd considers Certificate of Service (COS\n",
      "SMRT Corporation Ltd supports NS\n",
      "Verztec Consulting Pte Ltd considers Certificate of Service (COS\n",
      "Verztec Consulting Pte Ltd supports NS\n",
      "Sunway Ship Supplies Pte Ltd considers Certificate of Service (COS\n",
      "Sunway Ship Supplies Pte Ltd supports NS\n",
      "Grand Park City Hall considers Certificate of Service (COS\n",
      "Grand Park City Hall supports NS\u001b[0m\n",
      "\n",
      "\u001b[1m> Finished chain.\u001b[0m\n"
     ]
    }
   ],
   "source": [
    "# Launch the first Gradio interface\n",
    "display(iface.launch())"
   ]
  },
  {
   "cell_type": "code",
   "execution_count": null,
   "id": "7eb855a8",
   "metadata": {
    "scrolled": true
   },
   "outputs": [],
   "source": [
    "# Knowledge graph visualization with triples\n",
    "\n",
    "kg = [\n",
    "('SMRT Corporation Ltd','considers','Certificate of Service (COS)'),\n",
    "('Verztec Consulting Pte Ltd','considers','Certificate of Service (COS)'),\n",
    "('Sunway Ship Supplies Pte Ltd','considers','Certificate of Service (COS)'),\n",
    "('Grand Park City Hall','considers','Certificate of Service (COS)'),\n",
    "('SMRT Corporation Ltd','considers','Certificate of Service (COS)'),\n",
    "('Verztec Consulting Pte Ltd','supports','NS'),\n",
    "('Sunway Ship Supplies Pte Ltd','supports','NS'),\n",
    "('Grand Park City Hall','supports','NS'),\n",
    "('SMRT Corporation Ltd','supports','NS'),\n",
    "('Certificate of Service (COS)','provides','information'),\n",
    "('Certificate of Service (COS)','considers','skills'),\n",
    "('Certificate of Service (COS)','considers','attributes'),\n",
    "('Certificate of Service (COS)','considers','personal attributes'),\n",
    "('Certificate of Service (COS)','considers','skill sets'),\n",
    "('Certificate of Service (COS)','considers','experiences'),\n",
    "('Certificate of Service (COS)','considers','leadership qualities'),\n",
    "('Certificate of Service (COS)','considers','experiences'),\n",
    "('Certificate of Service (COS)','issued_to','NSFs'),\n",
    "('Certificate of Service (COS)','issued_to','Nsmen'),\n",
    "('Certificate of Service (COS)','issued_to','NS'),\n",
    "]\n",
    "\n",
    "\n",
    "index_creator = GraphIndexCreator(llm=OpenAI(temperature=0))\n",
    "\n",
    "graph = index_creator.from_text('')\n",
    "for (node1, relation, node2) in kg:\n",
    "    graph.add_triple(KnowledgeTriple(node1, relation, node2))"
   ]
  },
  {
   "cell_type": "code",
   "execution_count": null,
   "id": "09e5cb27",
   "metadata": {},
   "outputs": [],
   "source": [
    "# Create directed graph\n",
    "G = nx.DiGraph()\n",
    "for node1, relation, node2 in kg:\n",
    "    G.add_edge(node1, node2, label=relation)\n",
    "\n",
    "# Plot the graph\n",
    "plt.figure(figsize=(25, 25), dpi=300)\n",
    "pos = nx.spring_layout(G, k=2, iterations=50, seed=0)\n",
    "\n",
    "nx.draw_networkx_nodes(G, pos, node_size=5000, node_color='lightgreen')\n",
    "nx.draw_networkx_edges(G, pos, edge_color='gray', edgelist=G.edges(), width=2)\n",
    "nx.draw_networkx_labels(G, pos, font_size=12)\n",
    "edge_labels = nx.get_edge_attributes(G, 'label')\n",
    "nx.draw_networkx_edge_labels(G, pos, edge_labels=edge_labels, font_size=12)\n",
    "\n",
    "# Display the plot\n",
    "plt.axis('off')\n",
    "plt.show()"
   ]
  },
  {
   "cell_type": "code",
   "execution_count": null,
   "id": "851f0e49",
   "metadata": {},
   "outputs": [],
   "source": [
    "# THIS CELL IS NOT TO BE RUN \n",
    "# PURPOSE: INPUTS TO GRADIO (USER INTERFACE) FOR PROOF OF CONCEPT PURPOSE\n",
    "\n",
    "# Qns to feed in to Gradio Above \n",
    "\n",
    "Do SMRT Corporation Ltd,Verztec Consulting Pte Ltd,Sunway Ship Supplies Pte Ltd,Grand Park City Hall consider NS Certificate of Service (COS)?\n",
    "\n",
    "# triples to feed in to Gradio Above\n",
    "\n",
    "(SMRT Corporation Ltd,considers,Certificate of Service (COS))\n",
    "(Verztec Consulting Pte Ltd,considers,Certificate of Service (COS))\n",
    "(Sunway Ship Supplies Pte Ltd,considers,Certificate of Service (COS))\n",
    "(Grand Park City Hall,considers,Certificate of Service (COS))\n",
    "(SMRT Corporation Ltd,considers,Certificate of Service (COS))\n",
    "(Verztec Consulting Pte Ltd,supports,NS)\n",
    "(Sunway Ship Supplies Pte Ltd,supports,NS)\n",
    "(Grand Park City Hall,supports,NS)\n",
    "(SMRT Corporation Ltd,supports,NS)\n",
    "(Certificate of Service (COS),provides,information)\n",
    "(Certificate of Service (COS),considers,skills)\n",
    "(Certificate of Service (COS),considers,attributes)\n",
    "(Certificate of Service (COS),considers,personal attributes)\n",
    "(Certificate of Service (COS),considers,skill sets)\n",
    "(Certificate of Service (COS),considers,experiences)\n",
    "(Certificate of Service (COS),considers,leadership qualities)\n",
    "(Certificate of Service (COS),considers,experiences)\n",
    "(Certificate of Service (COS),issued_to,NSFs)\n",
    "(Certificate of Service (COS),issued_to,Nsmen)\n",
    "(Certificate of Service (COS),issued_to,NS)\n"
   ]
  }
 ],
 "metadata": {
  "celltoolbar": "Raw Cell Format",
  "kernelspec": {
   "display_name": "Python 3 (ipykernel)",
   "language": "python",
   "name": "python3"
  },
  "language_info": {
   "codemirror_mode": {
    "name": "ipython",
    "version": 3
   },
   "file_extension": ".py",
   "mimetype": "text/x-python",
   "name": "python",
   "nbconvert_exporter": "python",
   "pygments_lexer": "ipython3",
   "version": "3.10.9"
  }
 },
 "nbformat": 4,
 "nbformat_minor": 5
}
